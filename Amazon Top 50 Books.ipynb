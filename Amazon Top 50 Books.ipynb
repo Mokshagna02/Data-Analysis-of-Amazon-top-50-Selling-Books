{
 "cells": [
  {
   "cell_type": "markdown",
   "id": "df69c4ea-7b5d-4179-a96c-c840ed29fcff",
   "metadata": {},
   "source": [
    "## Setting Up the Environment"
   ]
  },
  {
   "cell_type": "markdown",
   "id": "3d465646-eb31-4564-a232-1c9d5756a10a",
   "metadata": {},
   "source": [
    "Before we start our data analysis, we need to import important Python libraries that will aid in data manipulation and visualization."
   ]
  },
  {
   "cell_type": "code",
   "execution_count": 3,
   "id": "0095a18b-b386-4cd3-a361-a188f10d9070",
   "metadata": {},
   "outputs": [],
   "source": [
    "import pandas as pd\n",
    "import numpy as np\n",
    "import matplotlib.pyplot as plt\n",
    "import seaborn as sns"
   ]
  },
  {
   "cell_type": "markdown",
   "id": "f64cd76a-9443-44b2-9963-d27f8c8ade50",
   "metadata": {},
   "source": [
    "## Importing Dataset"
   ]
  },
  {
   "cell_type": "markdown",
   "id": "eaea7c1e-3a94-4c90-9b5d-05771ac4724f",
   "metadata": {},
   "source": [
    "We are loading the dataset into a pandas DataFrame. It contains details about the top 50 bestselling books on Amazon from 2009 to 2019, including their categories."
   ]
  },
  {
   "cell_type": "code",
   "execution_count": 6,
   "id": "fea40112-d4c1-47a2-983f-2ec1f9e48513",
   "metadata": {},
   "outputs": [],
   "source": [
    "df=pd.read_csv(\"bestsellers with categories.csv\")"
   ]
  },
  {
   "cell_type": "markdown",
   "id": "9736f7eb-8db2-4f6a-aace-597524fac487",
   "metadata": {},
   "source": [
    "## Displaying the First Few Rows"
   ]
  },
  {
   "cell_type": "markdown",
   "id": "fb2961d3-b1a9-47fd-af97-47cc58080fec",
   "metadata": {},
   "source": [
    "We are using the head() method to view the first few rows of our DataFrame, df. This gives us a quick overview of the dataset after it has been loaded."
   ]
  },
  {
   "cell_type": "code",
   "execution_count": 11,
   "id": "90902640-f0cb-47e2-85da-eb2ab9dbd2e2",
   "metadata": {},
   "outputs": [
    {
     "data": {
      "text/html": [
       "<div>\n",
       "<style scoped>\n",
       "    .dataframe tbody tr th:only-of-type {\n",
       "        vertical-align: middle;\n",
       "    }\n",
       "\n",
       "    .dataframe tbody tr th {\n",
       "        vertical-align: top;\n",
       "    }\n",
       "\n",
       "    .dataframe thead th {\n",
       "        text-align: right;\n",
       "    }\n",
       "</style>\n",
       "<table border=\"1\" class=\"dataframe\">\n",
       "  <thead>\n",
       "    <tr style=\"text-align: right;\">\n",
       "      <th></th>\n",
       "      <th>Name</th>\n",
       "      <th>Author</th>\n",
       "      <th>User Rating</th>\n",
       "      <th>Reviews</th>\n",
       "      <th>Price</th>\n",
       "      <th>Year</th>\n",
       "      <th>Genre</th>\n",
       "    </tr>\n",
       "  </thead>\n",
       "  <tbody>\n",
       "    <tr>\n",
       "      <th>0</th>\n",
       "      <td>10-Day Green Smoothie Cleanse</td>\n",
       "      <td>JJ Smith</td>\n",
       "      <td>4.7</td>\n",
       "      <td>17350</td>\n",
       "      <td>8</td>\n",
       "      <td>2016</td>\n",
       "      <td>Non Fiction</td>\n",
       "    </tr>\n",
       "    <tr>\n",
       "      <th>1</th>\n",
       "      <td>11/22/63: A Novel</td>\n",
       "      <td>Stephen King</td>\n",
       "      <td>4.6</td>\n",
       "      <td>2052</td>\n",
       "      <td>22</td>\n",
       "      <td>2011</td>\n",
       "      <td>Fiction</td>\n",
       "    </tr>\n",
       "    <tr>\n",
       "      <th>2</th>\n",
       "      <td>12 Rules for Life: An Antidote to Chaos</td>\n",
       "      <td>Jordan B. Peterson</td>\n",
       "      <td>4.7</td>\n",
       "      <td>18979</td>\n",
       "      <td>15</td>\n",
       "      <td>2018</td>\n",
       "      <td>Non Fiction</td>\n",
       "    </tr>\n",
       "    <tr>\n",
       "      <th>3</th>\n",
       "      <td>1984 (Signet Classics)</td>\n",
       "      <td>George Orwell</td>\n",
       "      <td>4.7</td>\n",
       "      <td>21424</td>\n",
       "      <td>6</td>\n",
       "      <td>2017</td>\n",
       "      <td>Fiction</td>\n",
       "    </tr>\n",
       "    <tr>\n",
       "      <th>4</th>\n",
       "      <td>5,000 Awesome Facts (About Everything!) (Natio...</td>\n",
       "      <td>National Geographic Kids</td>\n",
       "      <td>4.8</td>\n",
       "      <td>7665</td>\n",
       "      <td>12</td>\n",
       "      <td>2019</td>\n",
       "      <td>Non Fiction</td>\n",
       "    </tr>\n",
       "  </tbody>\n",
       "</table>\n",
       "</div>"
      ],
      "text/plain": [
       "                                                Name  \\\n",
       "0                      10-Day Green Smoothie Cleanse   \n",
       "1                                  11/22/63: A Novel   \n",
       "2            12 Rules for Life: An Antidote to Chaos   \n",
       "3                             1984 (Signet Classics)   \n",
       "4  5,000 Awesome Facts (About Everything!) (Natio...   \n",
       "\n",
       "                     Author  User Rating  Reviews  Price  Year        Genre  \n",
       "0                  JJ Smith          4.7    17350      8  2016  Non Fiction  \n",
       "1              Stephen King          4.6     2052     22  2011      Fiction  \n",
       "2        Jordan B. Peterson          4.7    18979     15  2018  Non Fiction  \n",
       "3             George Orwell          4.7    21424      6  2017      Fiction  \n",
       "4  National Geographic Kids          4.8     7665     12  2019  Non Fiction  "
      ]
     },
     "execution_count": 11,
     "metadata": {},
     "output_type": "execute_result"
    }
   ],
   "source": [
    "df.head()"
   ]
  },
  {
   "cell_type": "markdown",
   "id": "fa1041a2-0bf2-4d7f-b56f-0f0b88f400ef",
   "metadata": {},
   "source": [
    "## Understanding the dataset:"
   ]
  },
  {
   "cell_type": "code",
   "execution_count": 14,
   "id": "0d2f2810-e5bf-4fd7-a7db-b25196cd0426",
   "metadata": {},
   "outputs": [
    {
     "name": "stdout",
     "output_type": "stream",
     "text": [
      "<class 'pandas.core.frame.DataFrame'>\n",
      "RangeIndex: 550 entries, 0 to 549\n",
      "Data columns (total 7 columns):\n",
      " #   Column       Non-Null Count  Dtype  \n",
      "---  ------       --------------  -----  \n",
      " 0   Name         550 non-null    object \n",
      " 1   Author       550 non-null    object \n",
      " 2   User Rating  550 non-null    float64\n",
      " 3   Reviews      550 non-null    int64  \n",
      " 4   Price        550 non-null    int64  \n",
      " 5   Year         550 non-null    int64  \n",
      " 6   Genre        550 non-null    object \n",
      "dtypes: float64(1), int64(3), object(3)\n",
      "memory usage: 30.2+ KB\n"
     ]
    }
   ],
   "source": [
    "df.info()"
   ]
  },
  {
   "cell_type": "code",
   "execution_count": 16,
   "id": "ac8a55d4-d530-4b0e-b724-2bab372df4ed",
   "metadata": {},
   "outputs": [
    {
     "data": {
      "text/plain": [
       "Index(['Name', 'Author', 'User Rating', 'Reviews', 'Price', 'Year', 'Genre'], dtype='object')"
      ]
     },
     "execution_count": 16,
     "metadata": {},
     "output_type": "execute_result"
    }
   ],
   "source": [
    "df.columns"
   ]
  },
  {
   "cell_type": "markdown",
   "id": "fe46e85c-4c95-41a0-850e-4c3e70a38dc0",
   "metadata": {},
   "source": [
    "## Checking the DataFrame Size"
   ]
  },
  {
   "cell_type": "code",
   "execution_count": 19,
   "id": "75f6f57a-8130-4e31-ad59-65976cd5c967",
   "metadata": {},
   "outputs": [
    {
     "data": {
      "text/plain": [
       "(550, 7)"
      ]
     },
     "execution_count": 19,
     "metadata": {},
     "output_type": "execute_result"
    }
   ],
   "source": [
    "df.shape"
   ]
  },
  {
   "cell_type": "markdown",
   "id": "710df40f-a31d-4493-825a-fd87f8abf805",
   "metadata": {},
   "source": [
    "## Standardizing Column Names"
   ]
  },
  {
   "cell_type": "markdown",
   "id": "ab9c8439-479a-4329-b80d-7f1f54789261",
   "metadata": {},
   "source": [
    "We clean and standardize the column names in our DataFrame, df. We do this by converting all column names to lowercase and replacing spaces with underscores."
   ]
  },
  {
   "cell_type": "code",
   "execution_count": 23,
   "id": "ad29f4a0-2e05-4742-8ecd-6029862aeb59",
   "metadata": {},
   "outputs": [
    {
     "data": {
      "text/plain": [
       "Index(['name', 'author', 'user_rating', 'reviews', 'price', 'year', 'genre'], dtype='object')"
      ]
     },
     "execution_count": 23,
     "metadata": {},
     "output_type": "execute_result"
    }
   ],
   "source": [
    "# Convert column names to lowercase\n",
    "df.columns = df.columns.str.lower()\n",
    "\n",
    "# Replace spaces with underscores\n",
    "df.columns = df.columns.str.replace(' ', '_')\n",
    "\n",
    "# Display the new column names\n",
    "df.columns"
   ]
  },
  {
   "cell_type": "markdown",
   "id": "bb485401-5f65-41ea-9c4c-ca682d2deffa",
   "metadata": {},
   "source": [
    "## Numerical Data"
   ]
  },
  {
   "cell_type": "code",
   "execution_count": 26,
   "id": "f970ff4f-cb9b-4969-b808-c12d3527e545",
   "metadata": {},
   "outputs": [
    {
     "data": {
      "text/html": [
       "<div>\n",
       "<style scoped>\n",
       "    .dataframe tbody tr th:only-of-type {\n",
       "        vertical-align: middle;\n",
       "    }\n",
       "\n",
       "    .dataframe tbody tr th {\n",
       "        vertical-align: top;\n",
       "    }\n",
       "\n",
       "    .dataframe thead th {\n",
       "        text-align: right;\n",
       "    }\n",
       "</style>\n",
       "<table border=\"1\" class=\"dataframe\">\n",
       "  <thead>\n",
       "    <tr style=\"text-align: right;\">\n",
       "      <th></th>\n",
       "      <th>user_rating</th>\n",
       "      <th>reviews</th>\n",
       "      <th>price</th>\n",
       "      <th>year</th>\n",
       "    </tr>\n",
       "  </thead>\n",
       "  <tbody>\n",
       "    <tr>\n",
       "      <th>count</th>\n",
       "      <td>550.000000</td>\n",
       "      <td>550.000000</td>\n",
       "      <td>550.000000</td>\n",
       "      <td>550.000000</td>\n",
       "    </tr>\n",
       "    <tr>\n",
       "      <th>mean</th>\n",
       "      <td>4.618364</td>\n",
       "      <td>11953.281818</td>\n",
       "      <td>13.100000</td>\n",
       "      <td>2014.000000</td>\n",
       "    </tr>\n",
       "    <tr>\n",
       "      <th>std</th>\n",
       "      <td>0.226980</td>\n",
       "      <td>11731.132017</td>\n",
       "      <td>10.842262</td>\n",
       "      <td>3.165156</td>\n",
       "    </tr>\n",
       "    <tr>\n",
       "      <th>min</th>\n",
       "      <td>3.300000</td>\n",
       "      <td>37.000000</td>\n",
       "      <td>0.000000</td>\n",
       "      <td>2009.000000</td>\n",
       "    </tr>\n",
       "    <tr>\n",
       "      <th>25%</th>\n",
       "      <td>4.500000</td>\n",
       "      <td>4058.000000</td>\n",
       "      <td>7.000000</td>\n",
       "      <td>2011.000000</td>\n",
       "    </tr>\n",
       "    <tr>\n",
       "      <th>50%</th>\n",
       "      <td>4.700000</td>\n",
       "      <td>8580.000000</td>\n",
       "      <td>11.000000</td>\n",
       "      <td>2014.000000</td>\n",
       "    </tr>\n",
       "    <tr>\n",
       "      <th>75%</th>\n",
       "      <td>4.800000</td>\n",
       "      <td>17253.250000</td>\n",
       "      <td>16.000000</td>\n",
       "      <td>2017.000000</td>\n",
       "    </tr>\n",
       "    <tr>\n",
       "      <th>max</th>\n",
       "      <td>4.900000</td>\n",
       "      <td>87841.000000</td>\n",
       "      <td>105.000000</td>\n",
       "      <td>2019.000000</td>\n",
       "    </tr>\n",
       "  </tbody>\n",
       "</table>\n",
       "</div>"
      ],
      "text/plain": [
       "       user_rating       reviews       price         year\n",
       "count   550.000000    550.000000  550.000000   550.000000\n",
       "mean      4.618364  11953.281818   13.100000  2014.000000\n",
       "std       0.226980  11731.132017   10.842262     3.165156\n",
       "min       3.300000     37.000000    0.000000  2009.000000\n",
       "25%       4.500000   4058.000000    7.000000  2011.000000\n",
       "50%       4.700000   8580.000000   11.000000  2014.000000\n",
       "75%       4.800000  17253.250000   16.000000  2017.000000\n",
       "max       4.900000  87841.000000  105.000000  2019.000000"
      ]
     },
     "execution_count": 26,
     "metadata": {},
     "output_type": "execute_result"
    }
   ],
   "source": [
    "df.describe()"
   ]
  },
  {
   "cell_type": "markdown",
   "id": "a1fe4070-387c-4a27-b813-33b5da9f83ec",
   "metadata": {},
   "source": [
    "## Categorical Data"
   ]
  },
  {
   "cell_type": "code",
   "execution_count": 29,
   "id": "578ce0f2-d842-4932-9733-907e322e585a",
   "metadata": {},
   "outputs": [
    {
     "data": {
      "text/html": [
       "<div>\n",
       "<style scoped>\n",
       "    .dataframe tbody tr th:only-of-type {\n",
       "        vertical-align: middle;\n",
       "    }\n",
       "\n",
       "    .dataframe tbody tr th {\n",
       "        vertical-align: top;\n",
       "    }\n",
       "\n",
       "    .dataframe thead th {\n",
       "        text-align: right;\n",
       "    }\n",
       "</style>\n",
       "<table border=\"1\" class=\"dataframe\">\n",
       "  <thead>\n",
       "    <tr style=\"text-align: right;\">\n",
       "      <th></th>\n",
       "      <th>count</th>\n",
       "      <th>unique</th>\n",
       "      <th>top</th>\n",
       "      <th>freq</th>\n",
       "    </tr>\n",
       "  </thead>\n",
       "  <tbody>\n",
       "    <tr>\n",
       "      <th>name</th>\n",
       "      <td>550</td>\n",
       "      <td>351</td>\n",
       "      <td>Publication Manual of the American Psychologic...</td>\n",
       "      <td>10</td>\n",
       "    </tr>\n",
       "    <tr>\n",
       "      <th>author</th>\n",
       "      <td>550</td>\n",
       "      <td>248</td>\n",
       "      <td>Jeff Kinney</td>\n",
       "      <td>12</td>\n",
       "    </tr>\n",
       "    <tr>\n",
       "      <th>genre</th>\n",
       "      <td>550</td>\n",
       "      <td>2</td>\n",
       "      <td>Non Fiction</td>\n",
       "      <td>310</td>\n",
       "    </tr>\n",
       "  </tbody>\n",
       "</table>\n",
       "</div>"
      ],
      "text/plain": [
       "       count unique                                                top freq\n",
       "name     550    351  Publication Manual of the American Psychologic...   10\n",
       "author   550    248                                        Jeff Kinney   12\n",
       "genre    550      2                                        Non Fiction  310"
      ]
     },
     "execution_count": 29,
     "metadata": {},
     "output_type": "execute_result"
    }
   ],
   "source": [
    "df.describe(include=\"object\").transpose()"
   ]
  },
  {
   "cell_type": "markdown",
   "id": "8315e166-9c38-4ace-8847-b7f8de03c5ca",
   "metadata": {},
   "source": [
    "## Identifying Missing Values"
   ]
  },
  {
   "cell_type": "code",
   "execution_count": 32,
   "id": "d2d58c35-45c5-4ecb-93af-cf2060fe6a5c",
   "metadata": {},
   "outputs": [
    {
     "data": {
      "text/plain": [
       "name           False\n",
       "author         False\n",
       "user_rating    False\n",
       "reviews        False\n",
       "price          False\n",
       "year           False\n",
       "genre          False\n",
       "dtype: bool"
      ]
     },
     "execution_count": 32,
     "metadata": {},
     "output_type": "execute_result"
    }
   ],
   "source": [
    "df.isnull().any()"
   ]
  },
  {
   "cell_type": "markdown",
   "id": "64ee2fa1-4641-4193-904c-507df4d28da4",
   "metadata": {},
   "source": [
    "## Listing Unique Years"
   ]
  },
  {
   "cell_type": "code",
   "execution_count": 35,
   "id": "6ff100e9-bc9e-46ca-add9-06cbf4fa515f",
   "metadata": {},
   "outputs": [
    {
     "data": {
      "text/plain": [
       "array([2016, 2011, 2018, 2017, 2019, 2014, 2010, 2009, 2015, 2013, 2012],\n",
       "      dtype=int64)"
      ]
     },
     "execution_count": 35,
     "metadata": {},
     "output_type": "execute_result"
    }
   ],
   "source": [
    "df.year.unique()"
   ]
  },
  {
   "cell_type": "markdown",
   "id": "53983986-69f3-48b3-a0ba-1fa133b770de",
   "metadata": {},
   "source": [
    "## Listing Unique Genres"
   ]
  },
  {
   "cell_type": "code",
   "execution_count": 38,
   "id": "30eaf73a-e939-4c4a-ac4d-08c9403b7662",
   "metadata": {},
   "outputs": [
    {
     "data": {
      "text/plain": [
       "array(['Non Fiction', 'Fiction'], dtype=object)"
      ]
     },
     "execution_count": 38,
     "metadata": {},
     "output_type": "execute_result"
    }
   ],
   "source": [
    "df.genre.unique()"
   ]
  },
  {
   "cell_type": "code",
   "execution_count": 40,
   "id": "196b2d31-46b7-497d-ada5-b95f1e7ac1b0",
   "metadata": {},
   "outputs": [
    {
     "name": "stdout",
     "output_type": "stream",
     "text": [
      "genre\n",
      "Non Fiction    310\n",
      "Fiction        240\n",
      "Name: count, dtype: int64\n"
     ]
    }
   ],
   "source": [
    "genre_count=df.genre.value_counts()\n",
    "print(genre_count)"
   ]
  },
  {
   "cell_type": "markdown",
   "id": "3ae812ec-3b8d-4237-ad75-e440f3e25965",
   "metadata": {},
   "source": [
    "## Visualizing Genre Distribution"
   ]
  },
  {
   "cell_type": "code",
   "execution_count": 43,
   "id": "2d482739-7504-429e-9cab-288b92771d77",
   "metadata": {},
   "outputs": [
    {
     "data": {
      "text/plain": [
       "<Axes: xlabel='count', ylabel='genre'>"
      ]
     },
     "execution_count": 43,
     "metadata": {},
     "output_type": "execute_result"
    },
    {
     "data": {
      "image/png": "[encoded data removed]",
      "text/plain": [
       "<Figure size 640x480 with 1 Axes>"
      ]
     },
     "metadata": {},
     "output_type": "display_data"
    }
   ],
   "source": [
    "sns.countplot(df.genre)"
   ]
  },
  {
   "cell_type": "code",
   "execution_count": 45,
   "id": "e708bd7c-8528-40aa-bfa4-b21062b6be8a",
   "metadata": {},
   "outputs": [
    {
     "data": {
      "image/png": "[encoded data removed]",
      "text/plain": [
       "<Figure size 640x480 with 1 Axes>"
      ]
     },
     "metadata": {},
     "output_type": "display_data"
    },
    {
     "data": {
      "text/plain": [
       "<Figure size 640x480 with 0 Axes>"
      ]
     },
     "metadata": {},
     "output_type": "display_data"
    }
   ],
   "source": [
    "plt.pie(genre_count,autopct='%1.1f%%',labels=genre_count.index)\n",
    "plt.axis('Equal')\n",
    "plt.title('Genre Distribution')\n",
    "plt.show()\n",
    "plt.clf()"
   ]
  },
  {
   "cell_type": "code",
   "execution_count": 47,
   "id": "83b664f4-aaab-4f94-acbe-ae078afe981e",
   "metadata": {},
   "outputs": [
    {
     "data": {
      "text/plain": [
       "Text(0.5, 1.0, 'Trend Over Year for Each Genre')"
      ]
     },
     "execution_count": 47,
     "metadata": {},
     "output_type": "execute_result"
    },
    {
     "data": {
      "image/png": "[encoded data removed]",
      "text/plain": [
       "<Figure size 1600x400 with 1 Axes>"
      ]
     },
     "metadata": {},
     "output_type": "display_data"
    }
   ],
   "source": [
    "plt.figure(figsize=(16,4))\n",
    "sns.countplot(x='year',data=df,hue='genre')\n",
    "plt.title(\"Trend Over Year for Each Genre\")"
   ]
  },
  {
   "cell_type": "markdown",
   "id": "2cb135b0-1954-4a6d-b1b4-a79f5fe3b9f1",
   "metadata": {},
   "source": [
    "## Data Aggregation by Genre:\n",
    "\n",
    "Aggregate the minimum and maximum prices for books within each genre."
   ]
  },
  {
   "cell_type": "code",
   "execution_count": 50,
   "id": "0738fbf0-be8e-47fd-b9f5-881fa83d3c21",
   "metadata": {},
   "outputs": [
    {
     "name": "stdout",
     "output_type": "stream",
     "text": [
      "New dataframe:\n"
     ]
    },
    {
     "data": {
      "text/html": [
       "<div>\n",
       "<style scoped>\n",
       "    .dataframe tbody tr th:only-of-type {\n",
       "        vertical-align: middle;\n",
       "    }\n",
       "\n",
       "    .dataframe tbody tr th {\n",
       "        vertical-align: top;\n",
       "    }\n",
       "\n",
       "    .dataframe thead tr th {\n",
       "        text-align: left;\n",
       "    }\n",
       "\n",
       "    .dataframe thead tr:last-of-type th {\n",
       "        text-align: right;\n",
       "    }\n",
       "</style>\n",
       "<table border=\"1\" class=\"dataframe\">\n",
       "  <thead>\n",
       "    <tr>\n",
       "      <th></th>\n",
       "      <th colspan=\"2\" halign=\"left\">price</th>\n",
       "    </tr>\n",
       "    <tr>\n",
       "      <th></th>\n",
       "      <th>min</th>\n",
       "      <th>max</th>\n",
       "    </tr>\n",
       "    <tr>\n",
       "      <th>genre</th>\n",
       "      <th></th>\n",
       "      <th></th>\n",
       "    </tr>\n",
       "  </thead>\n",
       "  <tbody>\n",
       "    <tr>\n",
       "      <th>Fiction</th>\n",
       "      <td>0</td>\n",
       "      <td>82</td>\n",
       "    </tr>\n",
       "    <tr>\n",
       "      <th>Non Fiction</th>\n",
       "      <td>0</td>\n",
       "      <td>105</td>\n",
       "    </tr>\n",
       "  </tbody>\n",
       "</table>\n",
       "</div>"
      ],
      "text/plain": [
       "            price     \n",
       "              min  max\n",
       "genre                 \n",
       "Fiction         0   82\n",
       "Non Fiction     0  105"
      ]
     },
     "execution_count": 50,
     "metadata": {},
     "output_type": "execute_result"
    }
   ],
   "source": [
    "df_fiction_non_fiction_price = df[['genre', 'price']].groupby('genre').agg(['min', 'max'])\n",
    "print('New dataframe:')\n",
    "df_fiction_non_fiction_price"
   ]
  },
  {
   "cell_type": "markdown",
   "id": "f1f7b34e-1837-47c1-881a-02f51b00073e",
   "metadata": {},
   "source": [
    "## Author Book Count:\n",
    "\n",
    "Calculates the number of books each author has in the dataset."
   ]
  },
  {
   "cell_type": "code",
   "execution_count": 53,
   "id": "187b7067-095d-499f-b8d8-d1558a5ad3cf",
   "metadata": {},
   "outputs": [
    {
     "name": "stdout",
     "output_type": "stream",
     "text": [
      "Dataframe of authors with the number of books:\n"
     ]
    },
    {
     "data": {
      "text/html": [
       "<div>\n",
       "<style scoped>\n",
       "    .dataframe tbody tr th:only-of-type {\n",
       "        vertical-align: middle;\n",
       "    }\n",
       "\n",
       "    .dataframe tbody tr th {\n",
       "        vertical-align: top;\n",
       "    }\n",
       "\n",
       "    .dataframe thead th {\n",
       "        text-align: right;\n",
       "    }\n",
       "</style>\n",
       "<table border=\"1\" class=\"dataframe\">\n",
       "  <thead>\n",
       "    <tr style=\"text-align: right;\">\n",
       "      <th></th>\n",
       "      <th>author</th>\n",
       "      <th>books_count</th>\n",
       "    </tr>\n",
       "  </thead>\n",
       "  <tbody>\n",
       "    <tr>\n",
       "      <th>0</th>\n",
       "      <td>Abraham Verghese</td>\n",
       "      <td>2</td>\n",
       "    </tr>\n",
       "    <tr>\n",
       "      <th>1</th>\n",
       "      <td>Adam Gasiewski</td>\n",
       "      <td>1</td>\n",
       "    </tr>\n",
       "    <tr>\n",
       "      <th>2</th>\n",
       "      <td>Adam Mansbach</td>\n",
       "      <td>1</td>\n",
       "    </tr>\n",
       "    <tr>\n",
       "      <th>3</th>\n",
       "      <td>Adir Levy</td>\n",
       "      <td>1</td>\n",
       "    </tr>\n",
       "    <tr>\n",
       "      <th>4</th>\n",
       "      <td>Admiral William H. McRaven</td>\n",
       "      <td>1</td>\n",
       "    </tr>\n",
       "    <tr>\n",
       "      <th>...</th>\n",
       "      <td>...</td>\n",
       "      <td>...</td>\n",
       "    </tr>\n",
       "    <tr>\n",
       "      <th>243</th>\n",
       "      <td>Walter Isaacson</td>\n",
       "      <td>3</td>\n",
       "    </tr>\n",
       "    <tr>\n",
       "      <th>244</th>\n",
       "      <td>William Davis</td>\n",
       "      <td>2</td>\n",
       "    </tr>\n",
       "    <tr>\n",
       "      <th>245</th>\n",
       "      <td>William P. Young</td>\n",
       "      <td>2</td>\n",
       "    </tr>\n",
       "    <tr>\n",
       "      <th>246</th>\n",
       "      <td>Wizards RPG Team</td>\n",
       "      <td>3</td>\n",
       "    </tr>\n",
       "    <tr>\n",
       "      <th>247</th>\n",
       "      <td>Zhi Gang Sha</td>\n",
       "      <td>2</td>\n",
       "    </tr>\n",
       "  </tbody>\n",
       "</table>\n",
       "<p>248 rows × 2 columns</p>\n",
       "</div>"
      ],
      "text/plain": [
       "                         author  books_count\n",
       "0              Abraham Verghese            2\n",
       "1                Adam Gasiewski            1\n",
       "2                 Adam Mansbach            1\n",
       "3                     Adir Levy            1\n",
       "4    Admiral William H. McRaven            1\n",
       "..                          ...          ...\n",
       "243             Walter Isaacson            3\n",
       "244               William Davis            2\n",
       "245            William P. Young            2\n",
       "246            Wizards RPG Team            3\n",
       "247                Zhi Gang Sha            2\n",
       "\n",
       "[248 rows x 2 columns]"
      ]
     },
     "execution_count": 53,
     "metadata": {},
     "output_type": "execute_result"
    }
   ],
   "source": [
    "# Group the dataframe by 'author' and count the number of books per author\n",
    "df_num_books_per_author = df[['author', 'name']].groupby('author').agg('count').reset_index()\n",
    "# Rename the columns to 'author' and 'books_count'\n",
    "df_num_books_per_author.columns = ['author', 'books_count']\n",
    "# Display the dataframe with the number of books per author\n",
    "print(\"Dataframe of authors with the number of books:\")\n",
    "df_num_books_per_author"
   ]
  },
  {
   "cell_type": "markdown",
   "id": "76dbdeab-9655-466b-bed7-9962331e195c",
   "metadata": {},
   "source": [
    "## Lowest Rated books"
   ]
  },
  {
   "cell_type": "code",
   "execution_count": 56,
   "id": "068f0102-74eb-4c51-8c77-845dc5e04543",
   "metadata": {},
   "outputs": [
    {
     "data": {
      "text/html": [
       "<div>\n",
       "<style scoped>\n",
       "    .dataframe tbody tr th:only-of-type {\n",
       "        vertical-align: middle;\n",
       "    }\n",
       "\n",
       "    .dataframe tbody tr th {\n",
       "        vertical-align: top;\n",
       "    }\n",
       "\n",
       "    .dataframe thead th {\n",
       "        text-align: right;\n",
       "    }\n",
       "</style>\n",
       "<table border=\"1\" class=\"dataframe\">\n",
       "  <thead>\n",
       "    <tr style=\"text-align: right;\">\n",
       "      <th></th>\n",
       "      <th>name</th>\n",
       "      <th>author</th>\n",
       "      <th>user_rating</th>\n",
       "      <th>reviews</th>\n",
       "      <th>price</th>\n",
       "      <th>year</th>\n",
       "      <th>genre</th>\n",
       "    </tr>\n",
       "  </thead>\n",
       "  <tbody>\n",
       "    <tr>\n",
       "      <th>353</th>\n",
       "      <td>The Casual Vacancy</td>\n",
       "      <td>J.K. Rowling</td>\n",
       "      <td>3.3</td>\n",
       "      <td>9372</td>\n",
       "      <td>12</td>\n",
       "      <td>2012</td>\n",
       "      <td>Fiction</td>\n",
       "    </tr>\n",
       "  </tbody>\n",
       "</table>\n",
       "</div>"
      ],
      "text/plain": [
       "                   name        author  user_rating  reviews  price  year  \\\n",
       "353  The Casual Vacancy  J.K. Rowling          3.3     9372     12  2012   \n",
       "\n",
       "       genre  \n",
       "353  Fiction  "
      ]
     },
     "execution_count": 56,
     "metadata": {},
     "output_type": "execute_result"
    }
   ],
   "source": [
    "lowest_rated = df[df[\"user_rating\"]==df[\"user_rating\"].min()]\n",
    "lowest_rated"
   ]
  },
  {
   "cell_type": "markdown",
   "id": "68ba56b3-5354-4751-8b67-3e3809ecce34",
   "metadata": {},
   "source": [
    "## Highest Rated books"
   ]
  },
  {
   "cell_type": "code",
   "execution_count": 59,
   "id": "b27026d1-d00a-4073-b4da-a2004d59f85b",
   "metadata": {},
   "outputs": [
    {
     "data": {
      "text/html": [
       "<div>\n",
       "<style scoped>\n",
       "    .dataframe tbody tr th:only-of-type {\n",
       "        vertical-align: middle;\n",
       "    }\n",
       "\n",
       "    .dataframe tbody tr th {\n",
       "        vertical-align: top;\n",
       "    }\n",
       "\n",
       "    .dataframe thead th {\n",
       "        text-align: right;\n",
       "    }\n",
       "</style>\n",
       "<table border=\"1\" class=\"dataframe\">\n",
       "  <thead>\n",
       "    <tr style=\"text-align: right;\">\n",
       "      <th></th>\n",
       "      <th>name</th>\n",
       "      <th>author</th>\n",
       "      <th>user_rating</th>\n",
       "      <th>reviews</th>\n",
       "      <th>price</th>\n",
       "      <th>year</th>\n",
       "      <th>genre</th>\n",
       "    </tr>\n",
       "  </thead>\n",
       "  <tbody>\n",
       "    <tr>\n",
       "      <th>40</th>\n",
       "      <td>Brown Bear, Brown Bear, What Do You See?</td>\n",
       "      <td>Bill Martin Jr.</td>\n",
       "      <td>4.9</td>\n",
       "      <td>14344</td>\n",
       "      <td>5</td>\n",
       "      <td>2017</td>\n",
       "      <td>Fiction</td>\n",
       "    </tr>\n",
       "    <tr>\n",
       "      <th>81</th>\n",
       "      <td>Dog Man and Cat Kid: From the Creator of Capta...</td>\n",
       "      <td>Dav Pilkey</td>\n",
       "      <td>4.9</td>\n",
       "      <td>5062</td>\n",
       "      <td>6</td>\n",
       "      <td>2018</td>\n",
       "      <td>Fiction</td>\n",
       "    </tr>\n",
       "    <tr>\n",
       "      <th>82</th>\n",
       "      <td>Dog Man: A Tale of Two Kitties: From the Creat...</td>\n",
       "      <td>Dav Pilkey</td>\n",
       "      <td>4.9</td>\n",
       "      <td>4786</td>\n",
       "      <td>8</td>\n",
       "      <td>2017</td>\n",
       "      <td>Fiction</td>\n",
       "    </tr>\n",
       "    <tr>\n",
       "      <th>83</th>\n",
       "      <td>Dog Man: Brawl of the Wild: From the Creator o...</td>\n",
       "      <td>Dav Pilkey</td>\n",
       "      <td>4.9</td>\n",
       "      <td>7235</td>\n",
       "      <td>4</td>\n",
       "      <td>2018</td>\n",
       "      <td>Fiction</td>\n",
       "    </tr>\n",
       "    <tr>\n",
       "      <th>85</th>\n",
       "      <td>Dog Man: Fetch-22: From the Creator of Captain...</td>\n",
       "      <td>Dav Pilkey</td>\n",
       "      <td>4.9</td>\n",
       "      <td>12619</td>\n",
       "      <td>8</td>\n",
       "      <td>2019</td>\n",
       "      <td>Fiction</td>\n",
       "    </tr>\n",
       "    <tr>\n",
       "      <th>86</th>\n",
       "      <td>Dog Man: For Whom the Ball Rolls: From the Cre...</td>\n",
       "      <td>Dav Pilkey</td>\n",
       "      <td>4.9</td>\n",
       "      <td>9089</td>\n",
       "      <td>8</td>\n",
       "      <td>2019</td>\n",
       "      <td>Fiction</td>\n",
       "    </tr>\n",
       "    <tr>\n",
       "      <th>87</th>\n",
       "      <td>Dog Man: Lord of the Fleas: From the Creator o...</td>\n",
       "      <td>Dav Pilkey</td>\n",
       "      <td>4.9</td>\n",
       "      <td>5470</td>\n",
       "      <td>6</td>\n",
       "      <td>2018</td>\n",
       "      <td>Fiction</td>\n",
       "    </tr>\n",
       "    <tr>\n",
       "      <th>146</th>\n",
       "      <td>Goodnight, Goodnight Construction Site (Hardco...</td>\n",
       "      <td>Sherri Duskey Rinker</td>\n",
       "      <td>4.9</td>\n",
       "      <td>7038</td>\n",
       "      <td>7</td>\n",
       "      <td>2012</td>\n",
       "      <td>Fiction</td>\n",
       "    </tr>\n",
       "    <tr>\n",
       "      <th>151</th>\n",
       "      <td>Hamilton: The Revolution</td>\n",
       "      <td>Lin-Manuel Miranda</td>\n",
       "      <td>4.9</td>\n",
       "      <td>5867</td>\n",
       "      <td>54</td>\n",
       "      <td>2016</td>\n",
       "      <td>Non Fiction</td>\n",
       "    </tr>\n",
       "    <tr>\n",
       "      <th>153</th>\n",
       "      <td>Harry Potter and the Chamber of Secrets: The I...</td>\n",
       "      <td>J.K. Rowling</td>\n",
       "      <td>4.9</td>\n",
       "      <td>19622</td>\n",
       "      <td>30</td>\n",
       "      <td>2016</td>\n",
       "      <td>Fiction</td>\n",
       "    </tr>\n",
       "    <tr>\n",
       "      <th>155</th>\n",
       "      <td>Harry Potter and the Goblet of Fire: The Illus...</td>\n",
       "      <td>J. K. Rowling</td>\n",
       "      <td>4.9</td>\n",
       "      <td>7758</td>\n",
       "      <td>18</td>\n",
       "      <td>2019</td>\n",
       "      <td>Fiction</td>\n",
       "    </tr>\n",
       "    <tr>\n",
       "      <th>156</th>\n",
       "      <td>Harry Potter and the Prisoner of Azkaban: The ...</td>\n",
       "      <td>J.K. Rowling</td>\n",
       "      <td>4.9</td>\n",
       "      <td>3146</td>\n",
       "      <td>30</td>\n",
       "      <td>2017</td>\n",
       "      <td>Fiction</td>\n",
       "    </tr>\n",
       "    <tr>\n",
       "      <th>157</th>\n",
       "      <td>Harry Potter and the Sorcerer's Stone: The Ill...</td>\n",
       "      <td>J.K. Rowling</td>\n",
       "      <td>4.9</td>\n",
       "      <td>10052</td>\n",
       "      <td>22</td>\n",
       "      <td>2016</td>\n",
       "      <td>Fiction</td>\n",
       "    </tr>\n",
       "    <tr>\n",
       "      <th>174</th>\n",
       "      <td>Humans of New York : Stories</td>\n",
       "      <td>Brandon Stanton</td>\n",
       "      <td>4.9</td>\n",
       "      <td>2812</td>\n",
       "      <td>17</td>\n",
       "      <td>2015</td>\n",
       "      <td>Non Fiction</td>\n",
       "    </tr>\n",
       "    <tr>\n",
       "      <th>187</th>\n",
       "      <td>Jesus Calling: Enjoying Peace in His Presence ...</td>\n",
       "      <td>Sarah Young</td>\n",
       "      <td>4.9</td>\n",
       "      <td>19576</td>\n",
       "      <td>8</td>\n",
       "      <td>2011</td>\n",
       "      <td>Non Fiction</td>\n",
       "    </tr>\n",
       "    <tr>\n",
       "      <th>207</th>\n",
       "      <td>Last Week Tonight with John Oliver Presents A ...</td>\n",
       "      <td>Jill Twiss</td>\n",
       "      <td>4.9</td>\n",
       "      <td>11881</td>\n",
       "      <td>13</td>\n",
       "      <td>2018</td>\n",
       "      <td>Fiction</td>\n",
       "    </tr>\n",
       "    <tr>\n",
       "      <th>219</th>\n",
       "      <td>Little Blue Truck</td>\n",
       "      <td>Alice Schertle</td>\n",
       "      <td>4.9</td>\n",
       "      <td>1884</td>\n",
       "      <td>0</td>\n",
       "      <td>2014</td>\n",
       "      <td>Fiction</td>\n",
       "    </tr>\n",
       "    <tr>\n",
       "      <th>244</th>\n",
       "      <td>Obama: An Intimate Portrait</td>\n",
       "      <td>Pete Souza</td>\n",
       "      <td>4.9</td>\n",
       "      <td>3192</td>\n",
       "      <td>22</td>\n",
       "      <td>2017</td>\n",
       "      <td>Non Fiction</td>\n",
       "    </tr>\n",
       "    <tr>\n",
       "      <th>245</th>\n",
       "      <td>Oh, the Places You'll Go!</td>\n",
       "      <td>Dr. Seuss</td>\n",
       "      <td>4.9</td>\n",
       "      <td>21834</td>\n",
       "      <td>8</td>\n",
       "      <td>2012</td>\n",
       "      <td>Fiction</td>\n",
       "    </tr>\n",
       "    <tr>\n",
       "      <th>288</th>\n",
       "      <td>Rush Revere and the Brave Pilgrims: Time-Trave...</td>\n",
       "      <td>Rush Limbaugh</td>\n",
       "      <td>4.9</td>\n",
       "      <td>7150</td>\n",
       "      <td>12</td>\n",
       "      <td>2013</td>\n",
       "      <td>Fiction</td>\n",
       "    </tr>\n",
       "    <tr>\n",
       "      <th>289</th>\n",
       "      <td>Rush Revere and the First Patriots: Time-Trave...</td>\n",
       "      <td>Rush Limbaugh</td>\n",
       "      <td>4.9</td>\n",
       "      <td>3836</td>\n",
       "      <td>12</td>\n",
       "      <td>2014</td>\n",
       "      <td>Fiction</td>\n",
       "    </tr>\n",
       "    <tr>\n",
       "      <th>303</th>\n",
       "      <td>Strange Planet (Strange Planet Series)</td>\n",
       "      <td>Nathan W. Pyle</td>\n",
       "      <td>4.9</td>\n",
       "      <td>9382</td>\n",
       "      <td>6</td>\n",
       "      <td>2019</td>\n",
       "      <td>Fiction</td>\n",
       "    </tr>\n",
       "    <tr>\n",
       "      <th>420</th>\n",
       "      <td>The Legend of Zelda: Hyrule Historia</td>\n",
       "      <td>Patrick Thorpe</td>\n",
       "      <td>4.9</td>\n",
       "      <td>5396</td>\n",
       "      <td>20</td>\n",
       "      <td>2013</td>\n",
       "      <td>Fiction</td>\n",
       "    </tr>\n",
       "    <tr>\n",
       "      <th>431</th>\n",
       "      <td>The Magnolia Story</td>\n",
       "      <td>Chip Gaines</td>\n",
       "      <td>4.9</td>\n",
       "      <td>7861</td>\n",
       "      <td>5</td>\n",
       "      <td>2016</td>\n",
       "      <td>Non Fiction</td>\n",
       "    </tr>\n",
       "    <tr>\n",
       "      <th>476</th>\n",
       "      <td>The Very Hungry Caterpillar</td>\n",
       "      <td>Eric Carle</td>\n",
       "      <td>4.9</td>\n",
       "      <td>19546</td>\n",
       "      <td>5</td>\n",
       "      <td>2013</td>\n",
       "      <td>Fiction</td>\n",
       "    </tr>\n",
       "    <tr>\n",
       "      <th>486</th>\n",
       "      <td>The Wonderful Things You Will Be</td>\n",
       "      <td>Emily Winfield Martin</td>\n",
       "      <td>4.9</td>\n",
       "      <td>8842</td>\n",
       "      <td>10</td>\n",
       "      <td>2016</td>\n",
       "      <td>Fiction</td>\n",
       "    </tr>\n",
       "    <tr>\n",
       "      <th>521</th>\n",
       "      <td>Unfreedom of the Press</td>\n",
       "      <td>Mark R. Levin</td>\n",
       "      <td>4.9</td>\n",
       "      <td>5956</td>\n",
       "      <td>11</td>\n",
       "      <td>2019</td>\n",
       "      <td>Non Fiction</td>\n",
       "    </tr>\n",
       "    <tr>\n",
       "      <th>545</th>\n",
       "      <td>Wrecking Ball (Diary of a Wimpy Kid Book 14)</td>\n",
       "      <td>Jeff Kinney</td>\n",
       "      <td>4.9</td>\n",
       "      <td>9413</td>\n",
       "      <td>8</td>\n",
       "      <td>2019</td>\n",
       "      <td>Fiction</td>\n",
       "    </tr>\n",
       "  </tbody>\n",
       "</table>\n",
       "</div>"
      ],
      "text/plain": [
       "                                                  name                 author  \\\n",
       "40            Brown Bear, Brown Bear, What Do You See?        Bill Martin Jr.   \n",
       "81   Dog Man and Cat Kid: From the Creator of Capta...             Dav Pilkey   \n",
       "82   Dog Man: A Tale of Two Kitties: From the Creat...             Dav Pilkey   \n",
       "83   Dog Man: Brawl of the Wild: From the Creator o...             Dav Pilkey   \n",
       "85   Dog Man: Fetch-22: From the Creator of Captain...             Dav Pilkey   \n",
       "86   Dog Man: For Whom the Ball Rolls: From the Cre...             Dav Pilkey   \n",
       "87   Dog Man: Lord of the Fleas: From the Creator o...             Dav Pilkey   \n",
       "146  Goodnight, Goodnight Construction Site (Hardco...   Sherri Duskey Rinker   \n",
       "151                           Hamilton: The Revolution     Lin-Manuel Miranda   \n",
       "153  Harry Potter and the Chamber of Secrets: The I...           J.K. Rowling   \n",
       "155  Harry Potter and the Goblet of Fire: The Illus...          J. K. Rowling   \n",
       "156  Harry Potter and the Prisoner of Azkaban: The ...           J.K. Rowling   \n",
       "157  Harry Potter and the Sorcerer's Stone: The Ill...           J.K. Rowling   \n",
       "174                       Humans of New York : Stories        Brandon Stanton   \n",
       "187  Jesus Calling: Enjoying Peace in His Presence ...            Sarah Young   \n",
       "207  Last Week Tonight with John Oliver Presents A ...             Jill Twiss   \n",
       "219                                  Little Blue Truck         Alice Schertle   \n",
       "244                        Obama: An Intimate Portrait             Pete Souza   \n",
       "245                          Oh, the Places You'll Go!              Dr. Seuss   \n",
       "288  Rush Revere and the Brave Pilgrims: Time-Trave...          Rush Limbaugh   \n",
       "289  Rush Revere and the First Patriots: Time-Trave...          Rush Limbaugh   \n",
       "303             Strange Planet (Strange Planet Series)         Nathan W. Pyle   \n",
       "420               The Legend of Zelda: Hyrule Historia         Patrick Thorpe   \n",
       "431                                 The Magnolia Story            Chip Gaines   \n",
       "476                        The Very Hungry Caterpillar             Eric Carle   \n",
       "486                   The Wonderful Things You Will Be  Emily Winfield Martin   \n",
       "521                             Unfreedom of the Press          Mark R. Levin   \n",
       "545       Wrecking Ball (Diary of a Wimpy Kid Book 14)            Jeff Kinney   \n",
       "\n",
       "     user_rating  reviews  price  year        genre  \n",
       "40           4.9    14344      5  2017      Fiction  \n",
       "81           4.9     5062      6  2018      Fiction  \n",
       "82           4.9     4786      8  2017      Fiction  \n",
       "83           4.9     7235      4  2018      Fiction  \n",
       "85           4.9    12619      8  2019      Fiction  \n",
       "86           4.9     9089      8  2019      Fiction  \n",
       "87           4.9     5470      6  2018      Fiction  \n",
       "146          4.9     7038      7  2012      Fiction  \n",
       "151          4.9     5867     54  2016  Non Fiction  \n",
       "153          4.9    19622     30  2016      Fiction  \n",
       "155          4.9     7758     18  2019      Fiction  \n",
       "156          4.9     3146     30  2017      Fiction  \n",
       "157          4.9    10052     22  2016      Fiction  \n",
       "174          4.9     2812     17  2015  Non Fiction  \n",
       "187          4.9    19576      8  2011  Non Fiction  \n",
       "207          4.9    11881     13  2018      Fiction  \n",
       "219          4.9     1884      0  2014      Fiction  \n",
       "244          4.9     3192     22  2017  Non Fiction  \n",
       "245          4.9    21834      8  2012      Fiction  \n",
       "288          4.9     7150     12  2013      Fiction  \n",
       "289          4.9     3836     12  2014      Fiction  \n",
       "303          4.9     9382      6  2019      Fiction  \n",
       "420          4.9     5396     20  2013      Fiction  \n",
       "431          4.9     7861      5  2016  Non Fiction  \n",
       "476          4.9    19546      5  2013      Fiction  \n",
       "486          4.9     8842     10  2016      Fiction  \n",
       "521          4.9     5956     11  2019  Non Fiction  \n",
       "545          4.9     9413      8  2019      Fiction  "
      ]
     },
     "execution_count": 59,
     "metadata": {},
     "output_type": "execute_result"
    }
   ],
   "source": [
    "highest_rated =df[df[\"user_rating\"]==df[\"user_rating\"].max()].drop_duplicates(\"name\")\n",
    "highest_rated"
   ]
  },
  {
   "cell_type": "markdown",
   "id": "8cb45a98-1f47-48b3-b992-bfb347e019f8",
   "metadata": {},
   "source": [
    "## Identifying the Author with Most Books:\n",
    "\n",
    "This step determines which author has the highest number of books in the df_num_books_per_author dataframe."
   ]
  },
  {
   "cell_type": "code",
   "execution_count": 62,
   "id": "ba69890b-b14f-4aeb-956b-89aa3fc5ee6d",
   "metadata": {},
   "outputs": [
    {
     "data": {
      "text/plain": [
       "author         Jeff Kinney\n",
       "books_count             12\n",
       "Name: 120, dtype: object"
      ]
     },
     "execution_count": 62,
     "metadata": {},
     "output_type": "execute_result"
    }
   ],
   "source": [
    "most_books_author = df_num_books_per_author.loc[df_num_books_per_author['books_count'].idxmax()]\n",
    "most_books_author"
   ]
  },
  {
   "cell_type": "markdown",
   "id": "46611224-5912-44b6-85e1-49571644d605",
   "metadata": {},
   "source": [
    "## Average Rating by Author:\n",
    "\n",
    "This step calculates the average user rating for each author in the dataset."
   ]
  },
  {
   "cell_type": "code",
   "execution_count": 65,
   "id": "f50e0a3d-86e5-4949-8f03-8fe727421803",
   "metadata": {},
   "outputs": [
    {
     "name": "stdout",
     "output_type": "stream",
     "text": [
      "New dataframe:\n"
     ]
    },
    {
     "data": {
      "text/html": [
       "<div>\n",
       "<style scoped>\n",
       "    .dataframe tbody tr th:only-of-type {\n",
       "        vertical-align: middle;\n",
       "    }\n",
       "\n",
       "    .dataframe tbody tr th {\n",
       "        vertical-align: top;\n",
       "    }\n",
       "\n",
       "    .dataframe thead th {\n",
       "        text-align: right;\n",
       "    }\n",
       "</style>\n",
       "<table border=\"1\" class=\"dataframe\">\n",
       "  <thead>\n",
       "    <tr style=\"text-align: right;\">\n",
       "      <th></th>\n",
       "      <th>author</th>\n",
       "      <th>avg_rating</th>\n",
       "    </tr>\n",
       "  </thead>\n",
       "  <tbody>\n",
       "    <tr>\n",
       "      <th>0</th>\n",
       "      <td>Abraham Verghese</td>\n",
       "      <td>4.60</td>\n",
       "    </tr>\n",
       "    <tr>\n",
       "      <th>1</th>\n",
       "      <td>Adam Gasiewski</td>\n",
       "      <td>4.40</td>\n",
       "    </tr>\n",
       "    <tr>\n",
       "      <th>2</th>\n",
       "      <td>Adam Mansbach</td>\n",
       "      <td>4.80</td>\n",
       "    </tr>\n",
       "    <tr>\n",
       "      <th>3</th>\n",
       "      <td>Adir Levy</td>\n",
       "      <td>4.80</td>\n",
       "    </tr>\n",
       "    <tr>\n",
       "      <th>4</th>\n",
       "      <td>Admiral William H. McRaven</td>\n",
       "      <td>4.70</td>\n",
       "    </tr>\n",
       "    <tr>\n",
       "      <th>...</th>\n",
       "      <td>...</td>\n",
       "      <td>...</td>\n",
       "    </tr>\n",
       "    <tr>\n",
       "      <th>243</th>\n",
       "      <td>Walter Isaacson</td>\n",
       "      <td>4.57</td>\n",
       "    </tr>\n",
       "    <tr>\n",
       "      <th>244</th>\n",
       "      <td>William Davis</td>\n",
       "      <td>4.40</td>\n",
       "    </tr>\n",
       "    <tr>\n",
       "      <th>245</th>\n",
       "      <td>William P. Young</td>\n",
       "      <td>4.60</td>\n",
       "    </tr>\n",
       "    <tr>\n",
       "      <th>246</th>\n",
       "      <td>Wizards RPG Team</td>\n",
       "      <td>4.80</td>\n",
       "    </tr>\n",
       "    <tr>\n",
       "      <th>247</th>\n",
       "      <td>Zhi Gang Sha</td>\n",
       "      <td>4.60</td>\n",
       "    </tr>\n",
       "  </tbody>\n",
       "</table>\n",
       "<p>248 rows × 2 columns</p>\n",
       "</div>"
      ],
      "text/plain": [
       "                         author  avg_rating\n",
       "0              Abraham Verghese        4.60\n",
       "1                Adam Gasiewski        4.40\n",
       "2                 Adam Mansbach        4.80\n",
       "3                     Adir Levy        4.80\n",
       "4    Admiral William H. McRaven        4.70\n",
       "..                          ...         ...\n",
       "243             Walter Isaacson        4.57\n",
       "244               William Davis        4.40\n",
       "245            William P. Young        4.60\n",
       "246            Wizards RPG Team        4.80\n",
       "247                Zhi Gang Sha        4.60\n",
       "\n",
       "[248 rows x 2 columns]"
      ]
     },
     "execution_count": 65,
     "metadata": {},
     "output_type": "execute_result"
    }
   ],
   "source": [
    "df_author_avg_rating = df[['author', 'user_rating']].groupby('author').agg('mean').round(2).reset_index()\n",
    "\n",
    "df_author_avg_rating.columns = ['author', 'avg_rating']\n",
    "\n",
    "print('New dataframe:')\n",
    "df_author_avg_rating"
   ]
  },
  {
   "cell_type": "markdown",
   "id": "9b5953f0-0d19-4f90-8c35-d28b69ca0df6",
   "metadata": {},
   "source": [
    "## Reviews Trend Over Years:"
   ]
  },
  {
   "cell_type": "code",
   "execution_count": 68,
   "id": "c478e48b-fbe3-4752-92b6-fbf2b30b404e",
   "metadata": {},
   "outputs": [
    {
     "data": {
      "image/png": "[encoded data removed]",
      "text/plain": [
       "<Figure size 640x480 with 1 Axes>"
      ]
     },
     "metadata": {},
     "output_type": "display_data"
    },
    {
     "data": {
      "text/plain": [
       "<Figure size 640x480 with 0 Axes>"
      ]
     },
     "metadata": {},
     "output_type": "display_data"
    }
   ],
   "source": [
    "sns.lineplot(x='year', y='reviews', data=df, linewidth=2.5)\n",
    "plt.xlabel(\"Year\", fontweight='bold')\n",
    "plt.ylabel(\"Reviews count\", fontweight='bold')\n",
    "plt.title(\"Number of reviews per year\", fontweight='bold')\n",
    "plt.xticks(fontweight='bold')\n",
    "plt.yticks(fontweight='bold')\n",
    "plt.show()\n",
    "plt.clf()"
   ]
  },
  {
   "cell_type": "code",
   "execution_count": 70,
   "id": "0025ccce-16fd-443a-a0fa-a0542166e227",
   "metadata": {},
   "outputs": [
    {
     "data": {
      "image/png": "[encoded data removed]",
      "text/plain": [
       "<Figure size 640x480 with 1 Axes>"
      ]
     },
     "metadata": {},
     "output_type": "display_data"
    }
   ],
   "source": [
    "sns.histplot(df['price'])\n",
    "plt.title('Histogram of Book Prices')\n",
    "plt.xlabel('Price', fontsize=14, fontweight='bold')\n",
    "plt.ylabel('Frequency', fontsize=14, fontweight='bold')\n",
    "plt.show()"
   ]
  },
  {
   "cell_type": "markdown",
   "id": "eaea7739-20c7-494c-8c47-f19311d1539a",
   "metadata": {},
   "source": [
    "## Outlier Detection and Treatment"
   ]
  },
  {
   "cell_type": "markdown",
   "id": "06dd2d3e-99bb-4750-8b94-6a6a4ea3743e",
   "metadata": {},
   "source": [
    "Boxplots are effective for identifying outliers. Once outliers are detected, they can be imputed using the 5th and 95th percentiles."
   ]
  },
  {
   "cell_type": "code",
   "execution_count": 74,
   "id": "2bea17f2-f2ab-4890-bfa6-abf6b5f0922e",
   "metadata": {},
   "outputs": [
    {
     "data": {
      "text/plain": [
       "<Axes: ylabel='price'>"
      ]
     },
     "execution_count": 74,
     "metadata": {},
     "output_type": "execute_result"
    },
    {
     "data": {
      "image/png": "[encoded data removed]",
      "text/plain": [
       "<Figure size 2000x1500 with 3 Axes>"
      ]
     },
     "metadata": {},
     "output_type": "display_data"
    }
   ],
   "source": [
    "plt.figure(figsize=(20,15))\n",
    "plt.subplot(3,3,1)\n",
    "sns.boxplot(df.user_rating)\n",
    "\n",
    "plt.subplot(3,3,2)\n",
    "sns.boxplot(df.reviews)\n",
    "\n",
    "plt.subplot(3,3,3)\n",
    "sns.boxplot(df.price)"
   ]
  },
  {
   "cell_type": "code",
   "execution_count": 76,
   "id": "460f33c9-0a86-4819-9948-458ebaf700a5",
   "metadata": {},
   "outputs": [],
   "source": [
    "df['price']=df['price'].clip(lower=df['price'].quantile(0.05),upper=df['price'].quantile(0.95))\n",
    "df['user_rating']=df['user_rating'].clip(lower=df['user_rating'].quantile(0.05),upper=df['user_rating'].quantile(0.95))\n",
    "df['reviews']=df['reviews'].clip(lower=df['reviews'].quantile(0.05),upper=df['reviews'].quantile(0.95))"
   ]
  },
  {
   "cell_type": "code",
   "execution_count": 78,
   "id": "9c73583a-2a01-4e37-bced-045ff6b0793e",
   "metadata": {},
   "outputs": [
    {
     "data": {
      "text/plain": [
       "<Axes: ylabel='price'>"
      ]
     },
     "execution_count": 78,
     "metadata": {},
     "output_type": "execute_result"
    },
    {
     "data": {
      "image/png": "[encoded data removed]",
      "text/plain": [
       "<Figure size 2000x1500 with 3 Axes>"
      ]
     },
     "metadata": {},
     "output_type": "display_data"
    }
   ],
   "source": [
    "plt.figure(figsize=(20,15))\n",
    "plt.subplot(3,3,1)\n",
    "sns.boxplot(df.user_rating)\n",
    "\n",
    "plt.subplot(3,3,2)\n",
    "sns.boxplot(df.reviews)\n",
    "\n",
    "plt.subplot(3,3,3)\n",
    "sns.boxplot(df.price)"
   ]
  },
  {
   "cell_type": "code",
   "execution_count": null,
   "id": "5e9992d6-a97f-47cf-89d2-b3b6ff466d24",
   "metadata": {},
   "outputs": [],
   "source": []
  }
 ],
 "metadata": {
  "kernelspec": {
   "display_name": "Python 3 (ipykernel)",
   "language": "python",
   "name": "python3"
  },
  "language_info": {
   "codemirror_mode": {
    "name": "ipython",
    "version": 3
   },
   "file_extension": ".py",
   "mimetype": "text/x-python",
   "name": "python",
   "nbconvert_exporter": "python",
   "pygments_lexer": "ipython3",
   "version": "3.12.4"
  }
 },
 "nbformat": 4,
 "nbformat_minor": 5
}
